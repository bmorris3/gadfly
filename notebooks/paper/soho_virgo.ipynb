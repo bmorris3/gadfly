{
 "cells": [
  {
   "cell_type": "code",
   "execution_count": null,
   "id": "0f473e7b-ef1f-4f29-b28a-8c7d66eaf747",
   "metadata": {},
   "outputs": [],
   "source": [
    "%matplotlib inline\n",
    "import matplotlib.pyplot as plt\n",
    "import numpy as np\n",
    "from astropy.io import fits\n",
    "from astropy.time import Time\n",
    "import astropy.units as u\n",
    "from astropy.units import cds\n",
    "from lightkurve import LightCurve\n",
    "\n",
    "from gadfly import PowerSpectrum, SolarOscillatorKernel"
   ]
  },
  {
   "cell_type": "code",
   "execution_count": null,
   "id": "8bf14ac6-073c-4096-8917-cdcf8b5a8c6c",
   "metadata": {},
   "outputs": [],
   "source": [
    "hdu = fits.open('../data/VIRGO_1min_0083-7404.fits.gz')\n",
    "raw_fluxes = hdu[0].data\n",
    "header = hdu[0].header\n",
    "\n",
    "header"
   ]
  },
  {
   "cell_type": "code",
   "execution_count": null,
   "id": "da016fd6-5691-4d31-b043-cf1adcfd311d",
   "metadata": {},
   "outputs": [],
   "source": [
    "soho_mission_day = Time(\"1995-12-1 00:00\")\n",
    "\n",
    "times = (\n",
    "    soho_mission_day.jd + \n",
    "    header['TIME'] + \n",
    "    np.arange(header['NAXIS1']) / 1440\n",
    ")\n",
    "times_astropy = Time(times, format='jd')\n",
    "\n",
    "fluxes = raw_fluxes.copy()\n",
    "interp_fluxes = np.interp(\n",
    "    times[raw_fluxes == -99], times[raw_fluxes != -99], fluxes[raw_fluxes != -99]\n",
    ")\n",
    "d = (times[1] - times[0]) * u.day\n",
    "\n",
    "fluxes[raw_fluxes == -99] = interp_fluxes\n",
    "\n",
    "fluxes = 1e6 * (fluxes / np.median(fluxes) - 1) * u.cds.ppm\n",
    "\n",
    "light_curve = LightCurve(time=times_astropy, flux=fluxes)"
   ]
  },
  {
   "cell_type": "code",
   "execution_count": null,
   "id": "d7c09cb4-d3ec-4075-8ec7-e870308f75cc",
   "metadata": {},
   "outputs": [],
   "source": [
    "ps = PowerSpectrum.from_light_curve(light_curve, detrend=False)"
   ]
  },
  {
   "cell_type": "code",
   "execution_count": null,
   "id": "d0f94bd6-f6e7-4064-a107-f06328a51a61",
   "metadata": {},
   "outputs": [],
   "source": [
    "binning_500 = ps.cutout(frequency_max=4500*u.uHz).bin(100)"
   ]
  },
  {
   "cell_type": "code",
   "execution_count": null,
   "id": "6914a256-7dab-43b5-a5bd-835e3db25c61",
   "metadata": {},
   "outputs": [],
   "source": [
    "cutout = ps.cutout(1800*u.uHz, 4500*u.uHz).bin(5_000, log=False)"
   ]
  },
  {
   "cell_type": "code",
   "execution_count": null,
   "id": "8ffa0b7b-e6a4-4fc6-8676-7620ba06a7c4",
   "metadata": {},
   "outputs": [],
   "source": [
    "kernel_freq_grid = np.sort(np.concatenate([\n",
    "    np.logspace(np.log10(0.05), np.log10(5000), 500),\n",
    "    np.linspace(1800, 4500, 10_000)\n",
    "])) * u.uHz"
   ]
  },
  {
   "cell_type": "code",
   "execution_count": null,
   "id": "958bf295-bfff-4e09-baff-6a8eb31f2989",
   "metadata": {},
   "outputs": [],
   "source": [
    "fig, ax = binning_500.plot(\n",
    "    freq=kernel_freq_grid,\n",
    "    obs_kwargs=dict(marker='.', color='k'), \n",
    "    figsize=(8, 6), \n",
    "    label_obs='SOHO VIRGO/PMO6',\n",
    "    create_new_figure=True,\n",
    ")\n",
    "cutout.plot(\n",
    "    ax=ax,\n",
    "    freq=kernel_freq_grid,\n",
    "    kernel=SolarOscillatorKernel(),\n",
    "    p_mode_inset=True,\n",
    "    inset_bounds=[0.4, 0.6, 0.55, 0.35],\n",
    "    obs_kwargs=dict(marker=None), \n",
    "    label_obs='',\n",
    "    label_kernel='gadfly',\n",
    "    kernel_kwargs=dict(color='r', alpha=1, lw=1.5, zorder=-10, rasterized=True),\n",
    "    inset_kwargs=dict(marker='.', mfc='none', color='k', zorder=10, rasterized=True),\n",
    ")\n",
    "ax.set(\n",
    "    xlim=[0.04, 1e4],\n",
    "    ylim=[5e-3, 2e6],\n",
    "    yticks=10.0 ** np.arange(-2, 7)\n",
    ")\n",
    "ax.legend(loc='lower left')\n",
    "\n",
    "for sp in ['right', 'top']:\n",
    "    ax.spines[sp].set_visible(False)\n",
    "    \n",
    "fig.savefig('plots/soho_virgo.pdf', bbox_inches='tight', dpi=250)"
   ]
  }
 ],
 "metadata": {
  "kernelspec": {
   "display_name": "Python 3 (ipykernel)",
   "language": "python",
   "name": "python3"
  },
  "language_info": {
   "codemirror_mode": {
    "name": "ipython",
    "version": 3
   },
   "file_extension": ".py",
   "mimetype": "text/x-python",
   "name": "python",
   "nbconvert_exporter": "python",
   "pygments_lexer": "ipython3",
   "version": "3.9.13"
  }
 },
 "nbformat": 4,
 "nbformat_minor": 5
}
