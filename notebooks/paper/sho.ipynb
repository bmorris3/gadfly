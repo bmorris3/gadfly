{
 "cells": [
  {
   "cell_type": "code",
   "execution_count": null,
   "id": "c9b7dce9-c8e0-4139-904f-076b1d5c456c",
   "metadata": {},
   "outputs": [],
   "source": [
    "import matplotlib.pyplot as plt\n",
    "import numpy as np\n",
    "\n",
    "plt.rc('text', usetex=True)\n",
    "\n",
    "def sho_psd(omega, S0, w0, Q):\n",
    "    \"\"\"\n",
    "    Stochastically driven, dampled harmonic oscillator.\n",
    "    \"\"\"\n",
    "    # What follows is the usual celerite2 SHO PSD:\n",
    "    return np.sqrt(2/np.pi) * S0 * w0**4 / ((omega**2 - w0**2)**2 + (omega**2 * w0**2 / Q**2))\n",
    "\n",
    "freq = np.logspace(0.4, 2.8, 1000)\n",
    "\n",
    "Qs = [0.5, 1, 10, 1000]\n",
    "S0 = 1\n",
    "w0 = 2*np.pi*30\n",
    "fig, ax = plt.subplots(figsize=(4, 3))\n",
    "for i, Q in enumerate(Qs):\n",
    "    psd = sho_psd(2*np.pi*freq, S0=S0, w0=w0, Q=Q)\n",
    "\n",
    "    ax.loglog(freq, psd, label=Q, zorder=-i)\n",
    "ax.set(\n",
    "    xlabel='Frequency',\n",
    "    ylabel='Power spectral density'\n",
    ")\n",
    "ax.legend(loc='upper right', title='Q=', frameon=False, alignment='left', fontsize=10)\n",
    "ax.annotate(\n",
    "    r\"$S \\propto \\omega^{-4}$\", \n",
    "    (freq.max(), np.exp(np.log(psd).min() + 5)), \n",
    "    ha='right', va='bottom', color='darkslategray'\n",
    ")\n",
    "ax.annotate(\n",
    "    r\"$S \\rightarrow S_0$\", \n",
    "    (freq.min(), 1.5 * S0), \n",
    "    ha='left', va='bottom', color='darkslategray'\n",
    ")\n",
    "ax.axvline(\n",
    "    w0 / (2*np.pi), ls='--', alpha=0.2, \n",
    "    color='darkslategray', zorder=-10\n",
    ")\n",
    "ax.annotate(\n",
    "    r\"$\\omega_0$\", \n",
    "    (w0 / (2*np.pi) / 1.1, np.exp(np.log(psd).min() + 5)), \n",
    "    ha='right', va='bottom', color='darkslategray'\n",
    ")\n",
    "for sp in ['right', 'top']:\n",
    "    ax.spines[sp].set_visible(False)\n",
    "fig.savefig('plots/sho_kernel.pdf', bbox_inches='tight')"
   ]
  },
  {
   "cell_type": "code",
   "execution_count": null,
   "id": "fa71fd55-0bd2-4ed8-a558-e1d0768b75f7",
   "metadata": {},
   "outputs": [],
   "source": []
  }
 ],
 "metadata": {
  "kernelspec": {
   "display_name": "Python 3 (ipykernel)",
   "language": "python",
   "name": "python3"
  },
  "language_info": {
   "codemirror_mode": {
    "name": "ipython",
    "version": 3
   },
   "file_extension": ".py",
   "mimetype": "text/x-python",
   "name": "python",
   "nbconvert_exporter": "python",
   "pygments_lexer": "ipython3",
   "version": "3.10.6"
  }
 },
 "nbformat": 4,
 "nbformat_minor": 5
}
