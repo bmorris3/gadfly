{
 "cells": [
  {
   "cell_type": "code",
   "execution_count": null,
   "id": "67b0b73b-956c-4085-986a-ffdadbfb71b0",
   "metadata": {},
   "outputs": [],
   "source": [
    "%matplotlib inline\n",
    "import numpy as np\n",
    "\n",
    "import astropy.units as u\n",
    "from astropy.time import Time\n",
    "\n",
    "import matplotlib.pyplot as plt\n",
    "\n",
    "from lightkurve import LightCurve\n",
    "from celerite2 import GaussianProcess\n",
    "\n",
    "from gadfly import SolarOscillatorKernel, GaussianProcess"
   ]
  },
  {
   "cell_type": "code",
   "execution_count": null,
   "id": "ffc4f1e0-72dd-4573-939e-d1102e93694b",
   "metadata": {},
   "outputs": [],
   "source": [
    "n_durations = 8\n",
    "simulation_durations = np.logspace(-1, 3, n_durations) * u.day\n",
    "cadence = 1 * u.min\n",
    "\n",
    "results = []\n",
    "\n",
    "for duration in simulation_durations:\n",
    "    n_samples = int(duration / cadence)\n",
    "    new_times = np.linspace(0, duration.to(u.day).value, n_samples) * u.d + Time(0, format='bkjd')\n",
    "    kernel = SolarOscillatorKernel()\n",
    "    gp = GaussianProcess(kernel, t=new_times)\n",
    "    runtime = %timeit -o -r 1 gp.sample()\n",
    "    results.append([duration.to(u.d).value, runtime.average])\n",
    "results = np.array(results)"
   ]
  },
  {
   "cell_type": "code",
   "execution_count": null,
   "id": "6548964b-6802-458a-847c-baa73afaef2a",
   "metadata": {},
   "outputs": [],
   "source": [
    "fig, ax = plt.subplots(figsize=(4, 3))\n",
    "ax.loglog(results[:, 0], results[:, 1], 'ko-')\n",
    "ax.set(\n",
    "    xlabel=\"Duration of simulated light curve [days]\",\n",
    "    ylabel=\"Runtime [ms]\", \n",
    "    xticklabels=[f\"{x:g}\" for x in ax.get_xticks()],\n",
    "    yticklabels=[f\"{1000 * y:g}\" for y in ax.get_yticks()]\n",
    ")\n",
    "\n",
    "for sp in ['right', 'top']:\n",
    "    ax.spines[sp].set_visible(False)\n",
    "fig.savefig('plots/runtime.pdf', bbox_inches='tight')"
   ]
  },
  {
   "cell_type": "code",
   "execution_count": null,
   "id": "f5f6be42-537c-4164-8e67-f6af2d351a7e",
   "metadata": {},
   "outputs": [],
   "source": [
    "print(f\"{(np.interp(1, results[:, 1], results[:, 0]) * u.d).to(u.year):.2f} of observations can be computed per second\")"
   ]
  }
 ],
 "metadata": {
  "kernelspec": {
   "display_name": "Python 3 (ipykernel)",
   "language": "python",
   "name": "python3"
  },
  "language_info": {
   "codemirror_mode": {
    "name": "ipython",
    "version": 3
   },
   "file_extension": ".py",
   "mimetype": "text/x-python",
   "name": "python",
   "nbconvert_exporter": "python",
   "pygments_lexer": "ipython3",
   "version": "3.9.13"
  }
 },
 "nbformat": 4,
 "nbformat_minor": 5
}
