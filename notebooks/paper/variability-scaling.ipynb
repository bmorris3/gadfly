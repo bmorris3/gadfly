{
 "cells": [
  {
   "cell_type": "markdown",
   "id": "78eb5eab-6701-4697-95c7-a7d2dae103ed",
   "metadata": {},
   "source": [
    "This notebook uses the `tynt` package, available for download with:\n",
    "\n",
    "    pip install git+https://github.com/bmorris3/tynt"
   ]
  },
  {
   "cell_type": "code",
   "execution_count": null,
   "id": "f929034d-18d3-4362-9e99-55fecb9e3b5f",
   "metadata": {},
   "outputs": [],
   "source": [
    "import json\n",
    "\n",
    "import numpy as np\n",
    "from scipy.optimize import minimize\n",
    "import matplotlib.pyplot as plt\n",
    "\n",
    "import astropy.units as u\n",
    "from astropy.modeling.models import BlackBody\n",
    "from astropy.table import Table"
   ]
  },
  {
   "cell_type": "code",
   "execution_count": null,
   "id": "dd6a563d-f481-41c8-80f5-ec3c1830f3c9",
   "metadata": {},
   "outputs": [],
   "source": [
    "n_wavelengths = 10_000\n",
    "wavelength = np.logspace(-1, 1, n_wavelengths) * u.um\n",
    "nu = wavelength.to(u.GHz, u.spectral())[::-1]"
   ]
  },
  {
   "cell_type": "code",
   "execution_count": null,
   "id": "fe2be76b-86ea-4e39-9d38-aff7a3225355",
   "metadata": {},
   "outputs": [],
   "source": [
    "# built-in filter names:\n",
    "filter_names = [\n",
    "    \"SLOAN/SDSS.u\", \"Generic/Stromgren.v\", \"Generic/Johnson.B\", \n",
    "    \"Generic/Bessell.V\", \"CHEOPS/CHEOPS.band\", \"GAIA/GAIA2.G\", \n",
    "    \"Kepler/Kepler.K\", \"TESS/TESS.Red\"\n",
    "]"
   ]
  },
  {
   "cell_type": "code",
   "execution_count": null,
   "id": "28947463-435d-451d-a007-8c98a190ba1d",
   "metadata": {},
   "outputs": [],
   "source": [
    "from tynt import FilterGenerator, Filter\n",
    "\n",
    "f = FilterGenerator()"
   ]
  },
  {
   "cell_type": "code",
   "execution_count": null,
   "id": "9879271a-0a78-44a5-a13e-25cf9a6075c2",
   "metadata": {},
   "outputs": [],
   "source": [
    "filters = dict()\n",
    "for filt_name in filter_names:\n",
    "    filters[filt_name] = f.download_true_transmittance(filt_name)"
   ]
  },
  {
   "cell_type": "code",
   "execution_count": null,
   "id": "c325c734-a152-4e3e-b55c-7c4452602556",
   "metadata": {},
   "outputs": [],
   "source": [
    "# SOHO VIRGO filter profile described here: \n",
    "# https://adsabs.harvard.edu/full/1995ASPC...76..408A\n",
    "wl_soho = wavelength.copy()\n",
    "# tr_soho = np.where(np.abs(wl_soho - 500*u.nm) < 2.5 * u.nm, 1, 0)\n",
    "tr_soho = np.ones_like(wl_soho)\n",
    "\n",
    "filters['SOHO VIRGO'] = Filter(wl_soho, tr_soho)"
   ]
  },
  {
   "cell_type": "code",
   "execution_count": null,
   "id": "b300a951-c014-48b7-8b51-693fc0678ba8",
   "metadata": {},
   "outputs": [],
   "source": [
    "# JWST/NIRSpec filter profile:\n",
    "wl_nirspec, tr_nirspec = np.loadtxt('../data/NIRSpec_S1600_prism_clear_throughput.csv', unpack=True, delimiter=',')\n",
    "\n",
    "filters['NIRSpec/Prism'] = Filter(wl_nirspec*u.um, tr_nirspec)"
   ]
  },
  {
   "cell_type": "code",
   "execution_count": null,
   "id": "46dec2c1-fd88-40f4-8e3e-58f419f77661",
   "metadata": {},
   "outputs": [],
   "source": [
    "def compare_filters(filter_names, T_S=5777 * u.K, nu=nu, wavelength=wavelength):\n",
    "    # assert filter_names[0] == 'SOHO VIRGO'\n",
    "    # Morris 2020, eqn 11:\n",
    "    dT = np.atleast_2d([-10, 10]).T * u.K\n",
    "    temperatures = dT + T_S\n",
    "\n",
    "    I_nu = BlackBody(T_S)(wavelength)\n",
    "    dI_dT = np.diff(BlackBody(temperatures)(wavelength), axis=0)[0] / dT.ptp()\n",
    "    \n",
    "    f0, f1 = filter_names\n",
    "    filt0_transmittance = np.interp(\n",
    "        wavelength, filters[f0].wavelength, filters[f0].transmittance, left=0, right=0\n",
    "    )\n",
    "    filt0_transmittance = filt0_transmittance / np.trapz(filt0_transmittance, wavelength)\n",
    "    filt1_transmittance = np.interp(\n",
    "        wavelength, filters[f1].wavelength, filters[f1].transmittance, left=0, right=0\n",
    "    )\n",
    "    filt1_transmittance = filt1_transmittance / np.trapz(filt1_transmittance, wavelength)\n",
    "\n",
    "    ratio_0 = (\n",
    "        np.trapz(dI_dT * wavelength * filt1_transmittance, wavelength) /\n",
    "        np.trapz(dI_dT * wavelength * filt0_transmittance, wavelength)\n",
    "    )\n",
    "    ratio_1 = (\n",
    "        np.trapz(I_nu * wavelength * filt0_transmittance, wavelength) / \n",
    "        np.trapz(I_nu * wavelength * filt1_transmittance, wavelength)\n",
    "    )\n",
    "    return ratio_0 * ratio_1\n",
    "\n",
    "for other in filter_names + ['NIRSpec/Prism']:\n",
    "    alpha = compare_filters(['SOHO VIRGO', other]).value\n",
    "    print(f\"{other.split('/')[0]} amplitude is {alpha:.2f}x SOHO\")"
   ]
  },
  {
   "cell_type": "code",
   "execution_count": null,
   "id": "87c936be-2c2c-486c-9cd2-ad3d816c3621",
   "metadata": {},
   "outputs": [],
   "source": [
    "# Simple sanity check:\n",
    "assert compare_filters(['SOHO VIRGO', 'SOHO VIRGO']) == 1"
   ]
  },
  {
   "cell_type": "code",
   "execution_count": null,
   "id": "b1772b35-99f0-42fc-87e4-f231169d01d3",
   "metadata": {},
   "outputs": [],
   "source": [
    "temperatures = np.arange(2000, 6500, 50)\n",
    "plot_filters = filter_names + ['NIRSpec/Prism']\n",
    "\n",
    "alpha = np.zeros((len(temperatures), len(plot_filters)))\n",
    "for i, T_S in enumerate(temperatures):\n",
    "    for j, other in enumerate(plot_filters):\n",
    "        alpha[i, j] = compare_filters(['SOHO VIRGO', other], T_S * u.K).value"
   ]
  },
  {
   "cell_type": "markdown",
   "id": "71137ca2-4232-45e8-adce-6ddae8fd5532",
   "metadata": {},
   "source": [
    "Fit with a simple parameterization:"
   ]
  },
  {
   "cell_type": "code",
   "execution_count": null,
   "id": "9d7346d9-093e-47e6-97bc-fc57fdd0358a",
   "metadata": {},
   "outputs": [],
   "source": [
    "plt.plot(temperatures, alpha, alpha=0.5)\n",
    "bounds = [[None, None], [1e-3, None], [None, None]]\n",
    "\n",
    "labels = [pf.split('/')[0] \n",
    "          if not (\n",
    "              pf.split('/')[0].startswith(\"Generic\") or\n",
    "              pf.split('/')[0].startswith(\"SLOAN\")) \n",
    "          else pf.split('/')[1].replace('.', ' ')\n",
    "          for pf in plot_filters]\n",
    "\n",
    "rows = []\n",
    "for i, filt in enumerate(labels):\n",
    "    #model = lambda p: p[0] * (temperatures - 2000) ** p[1] + p[2]\n",
    "    model = lambda p: p[0] * np.exp(p[1] * (2000 - temperatures) / 1000) + p[2]\n",
    "    chi2 = lambda p: np.sum((model(p) - alpha[:, i])**2)\n",
    "    result = minimize(chi2, [1, 0.1, -1.5], method='l-bfgs-b', bounds=bounds) \n",
    "    rows.append([filt] + result.x.tolist())\n",
    "    plt.plot(temperatures, model(result.x), color=f'C{i}', ls='--')\n",
    "\n",
    "results_table = Table(rows=rows, names=\"Filter $c_0$ $c_1$ $c_2$\".split())\n",
    "\n",
    "formats = len(result.x) * ['%.2f']\n",
    "for col, fmt in zip(results_table.colnames[1:], formats):\n",
    "    results_table[col].format = fmt\n",
    "results_table.write('tables/estimate_alpha.tex', format='latex', overwrite=True)"
   ]
  },
  {
   "cell_type": "markdown",
   "id": "3a7a2519-4927-4629-86d1-d486382333a2",
   "metadata": {},
   "source": [
    "Write out the results to a JSON file: "
   ]
  },
  {
   "cell_type": "code",
   "execution_count": null,
   "id": "f1d1c0ee-5fd6-42a6-9198-ff7f2c9a95db",
   "metadata": {},
   "outputs": [],
   "source": [
    "results_pandas = results_table.to_pandas(index='Filter').transpose()\n",
    "\n",
    "json.dump(\n",
    "    json.loads(results_pandas.to_json()), \n",
    "    open('tables/estimate_alpha.json', 'w'), \n",
    "    indent=4\n",
    ")"
   ]
  },
  {
   "cell_type": "code",
   "execution_count": null,
   "id": "7d6a748b-5b53-4ec9-9525-92932e408556",
   "metadata": {},
   "outputs": [],
   "source": [
    "lam_mean = np.ones((len(plot_filters)))\n",
    "\n",
    "for i, filt in enumerate(plot_filters):\n",
    "    lam_mean[i] = (\n",
    "        np.trapz(filters[filt].wavelength * filters[filt].transmittance, filters[filt].wavelength) / \n",
    "        np.trapz(filters[filt].transmittance, filters[filt].wavelength)\n",
    "    ).to(u.nm).value"
   ]
  },
  {
   "cell_type": "code",
   "execution_count": null,
   "id": "fd23543f-a88f-4f4f-89ec-ec04f19baec6",
   "metadata": {},
   "outputs": [],
   "source": [
    "labels_with_wavelengths = [\n",
    "    f\"{lam_mean[i]:.0f} nm ({lab})\"\n",
    "    for i, lab in enumerate(labels)\n",
    "]"
   ]
  },
  {
   "cell_type": "code",
   "execution_count": null,
   "id": "465f7221-f0fa-40c5-8cfc-c253f5b28393",
   "metadata": {},
   "outputs": [],
   "source": [
    "def cmap(lam):\n",
    "    log_min = np.log(400)\n",
    "    log_max = np.log(900)\n",
    "    x = (np.log(lam) - log_min) / (log_max - log_min)\n",
    "    return plt.cm.Spectral_r(x)\n",
    "\n",
    "fig, ax = plt.subplots(figsize=(4, 3))\n",
    "for alpha_i, label, lam in zip(alpha.T, labels_with_wavelengths, lam_mean):\n",
    "    ax.plot(temperatures, alpha_i, label=label, color=cmap(lam))\n",
    "\n",
    "ax.legend(title=\"$\\\\bar{{\\\\lambda}}=$\", loc=(1.01, 0.15), alignment='left')\n",
    "for sp in ['right', 'top']:\n",
    "    ax.spines[sp].set_visible(False)\n",
    "\n",
    "ax.set(\n",
    "    xlabel=r'$T_{\\rm eff}$ [K]',\n",
    "    ylabel=r'$\\alpha$'\n",
    ")\n",
    "fontsize = 14\n",
    "ax.set_xlabel(ax.get_xlabel(), fontsize=fontsize)\n",
    "ax.set_ylabel(ax.get_ylabel(), fontsize=fontsize)\n",
    "\n",
    "fig.savefig('plots/alpha.pdf', bbox_inches='tight')"
   ]
  },
  {
   "cell_type": "code",
   "execution_count": null,
   "id": "2182ddb7-49bc-49af-a2b1-a0b3af796c82",
   "metadata": {},
   "outputs": [],
   "source": []
  }
 ],
 "metadata": {
  "kernelspec": {
   "display_name": "Python 3 (ipykernel)",
   "language": "python",
   "name": "python3"
  },
  "language_info": {
   "codemirror_mode": {
    "name": "ipython",
    "version": 3
   },
   "file_extension": ".py",
   "mimetype": "text/x-python",
   "name": "python",
   "nbconvert_exporter": "python",
   "pygments_lexer": "ipython3",
   "version": "3.9.13"
  }
 },
 "nbformat": 4,
 "nbformat_minor": 5
}
